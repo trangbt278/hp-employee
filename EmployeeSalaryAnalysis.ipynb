{
 "cells": [
  {
   "cell_type": "markdown",
   "id": "aeec1e32",
   "metadata": {},
   "source": [
    "# HP Employee Salary Analysis"
   ]
  },
  {
   "cell_type": "code",
   "execution_count": 1,
   "id": "43bba03a",
   "metadata": {},
   "outputs": [],
   "source": [
    "# Dependencies and Setup\n",
    "import matplotlib.pyplot as plt\n",
    "import pandas as pd\n",
    "import numpy as np\n",
    "import warnings\n",
    "import hpemployee\n"
   ]
  },
  {
   "cell_type": "code",
   "execution_count": 2,
   "id": "e6e3c1ca",
   "metadata": {},
   "outputs": [
    {
     "data": {
      "text/html": [
       "<div>\n",
       "<style scoped>\n",
       "    .dataframe tbody tr th:only-of-type {\n",
       "        vertical-align: middle;\n",
       "    }\n",
       "\n",
       "    .dataframe tbody tr th {\n",
       "        vertical-align: top;\n",
       "    }\n",
       "\n",
       "    .dataframe thead th {\n",
       "        text-align: right;\n",
       "    }\n",
       "</style>\n",
       "<table border=\"1\" class=\"dataframe\">\n",
       "  <thead>\n",
       "    <tr style=\"text-align: right;\">\n",
       "      <th></th>\n",
       "      <th>employee_id</th>\n",
       "      <th>title_id</th>\n",
       "      <th>title</th>\n",
       "      <th>salary</th>\n",
       "    </tr>\n",
       "  </thead>\n",
       "  <tbody>\n",
       "    <tr>\n",
       "      <th>0</th>\n",
       "      <td>205000</td>\n",
       "      <td>s0001</td>\n",
       "      <td>Staff</td>\n",
       "      <td>129492</td>\n",
       "    </tr>\n",
       "    <tr>\n",
       "      <th>1</th>\n",
       "      <td>44188</td>\n",
       "      <td>s0002</td>\n",
       "      <td>Senior Staff</td>\n",
       "      <td>127238</td>\n",
       "    </tr>\n",
       "    <tr>\n",
       "      <th>2</th>\n",
       "      <td>444756</td>\n",
       "      <td>s0001</td>\n",
       "      <td>Staff</td>\n",
       "      <td>127041</td>\n",
       "    </tr>\n",
       "    <tr>\n",
       "      <th>3</th>\n",
       "      <td>458302</td>\n",
       "      <td>s0001</td>\n",
       "      <td>Staff</td>\n",
       "      <td>126703</td>\n",
       "    </tr>\n",
       "    <tr>\n",
       "      <th>4</th>\n",
       "      <td>37558</td>\n",
       "      <td>s0001</td>\n",
       "      <td>Staff</td>\n",
       "      <td>125469</td>\n",
       "    </tr>\n",
       "  </tbody>\n",
       "</table>\n",
       "</div>"
      ],
      "text/plain": [
       "  employee_id title_id         title  salary\n",
       "0      205000    s0001         Staff  129492\n",
       "1       44188    s0002  Senior Staff  127238\n",
       "2      444756    s0001         Staff  127041\n",
       "3      458302    s0001         Staff  126703\n",
       "4       37558    s0001         Staff  125469"
      ]
     },
     "execution_count": 2,
     "metadata": {},
     "output_type": "execute_result"
    }
   ],
   "source": [
    "sqlSalary = \"SELECT e.id AS employee_id, t.id AS title_id, t.title, s.salary \\\n",
    "                FROM employees e \\\n",
    "                JOIN salaries s ON e.id = s.emp_id \\\n",
    "                JOIN titles t ON t.id = e.title_id \\\n",
    "                ORDER BY salary DESC\" \n",
    "salaryDataset = hpemployee.exeQuery(sqlSalary)\n",
    "\n",
    "salaryDF = pd.DataFrame(salaryDataset, columns=[\"employee_id\", \"title_id\", \"title\", \"salary\"])\n",
    "salaryDF.head()"
   ]
  },
  {
   "cell_type": "code",
   "execution_count": 3,
   "id": "27127c0b",
   "metadata": {},
   "outputs": [
    {
     "data": {
      "text/plain": [
       "(array([9.15904320e-05, 2.14407973e-05, 2.09998248e-05, 1.90593969e-05,\n",
       "        1.66794863e-05, 1.39338366e-05, 1.14868863e-05, 8.85818376e-06,\n",
       "        6.80751273e-06, 4.78663714e-06, 3.23652947e-06, 2.13335337e-06,\n",
       "        1.22086808e-06, 6.31663289e-07, 3.32964021e-07, 1.65364682e-07,\n",
       "        7.52334813e-08, 3.12852101e-08, 9.68351740e-09, 3.72442977e-09]),\n",
       " array([ 40000. ,  44474.6,  48949.2,  53423.8,  57898.4,  62373. ,\n",
       "         66847.6,  71322.2,  75796.8,  80271.4,  84746. ,  89220.6,\n",
       "         93695.2,  98169.8, 102644.4, 107119. , 111593.6, 116068.2,\n",
       "        120542.8, 125017.4, 129492. ]),\n",
       " <BarContainer object of 20 artists>)"
      ]
     },
     "execution_count": 3,
     "metadata": {},
     "output_type": "execute_result"
    },
    {
     "data": {
      "image/png": "[encoded data removed]",
      "text/plain": [
       "<Figure size 432x288 with 1 Axes>"
      ]
     },
     "metadata": {
      "needs_background": "light"
     },
     "output_type": "display_data"
    }
   ],
   "source": [
    "plt.hist(salaryDF['salary'], density=True, bins=20)\n"
   ]
  },
  {
   "cell_type": "code",
   "execution_count": 4,
   "id": "a6a66607",
   "metadata": {
    "scrolled": true
   },
   "outputs": [
    {
     "data": {
      "text/html": [
       "<div>\n",
       "<style scoped>\n",
       "    .dataframe tbody tr th:only-of-type {\n",
       "        vertical-align: middle;\n",
       "    }\n",
       "\n",
       "    .dataframe tbody tr th {\n",
       "        vertical-align: top;\n",
       "    }\n",
       "\n",
       "    .dataframe thead th {\n",
       "        text-align: right;\n",
       "    }\n",
       "</style>\n",
       "<table border=\"1\" class=\"dataframe\">\n",
       "  <thead>\n",
       "    <tr style=\"text-align: right;\">\n",
       "      <th></th>\n",
       "      <th>title</th>\n",
       "      <th>avg_salary</th>\n",
       "    </tr>\n",
       "  </thead>\n",
       "  <tbody>\n",
       "    <tr>\n",
       "      <th>0</th>\n",
       "      <td>Assistant Engineer</td>\n",
       "      <td>48564.43</td>\n",
       "    </tr>\n",
       "    <tr>\n",
       "      <th>1</th>\n",
       "      <td>Engineer</td>\n",
       "      <td>48535.34</td>\n",
       "    </tr>\n",
       "    <tr>\n",
       "      <th>2</th>\n",
       "      <td>Manager</td>\n",
       "      <td>51531.04</td>\n",
       "    </tr>\n",
       "    <tr>\n",
       "      <th>3</th>\n",
       "      <td>Senior Engineer</td>\n",
       "      <td>48506.80</td>\n",
       "    </tr>\n",
       "    <tr>\n",
       "      <th>4</th>\n",
       "      <td>Senior Staff</td>\n",
       "      <td>58550.17</td>\n",
       "    </tr>\n",
       "    <tr>\n",
       "      <th>5</th>\n",
       "      <td>Staff</td>\n",
       "      <td>58465.38</td>\n",
       "    </tr>\n",
       "    <tr>\n",
       "      <th>6</th>\n",
       "      <td>Technique Leader</td>\n",
       "      <td>48582.90</td>\n",
       "    </tr>\n",
       "  </tbody>\n",
       "</table>\n",
       "</div>"
      ],
      "text/plain": [
       "                title  avg_salary\n",
       "0  Assistant Engineer    48564.43\n",
       "1            Engineer    48535.34\n",
       "2             Manager    51531.04\n",
       "3     Senior Engineer    48506.80\n",
       "4        Senior Staff    58550.17\n",
       "5               Staff    58465.38\n",
       "6    Technique Leader    48582.90"
      ]
     },
     "execution_count": 4,
     "metadata": {},
     "output_type": "execute_result"
    }
   ],
   "source": [
    "#Average salary by title\n",
    "salaryByTitle = salaryDF.groupby(['title'])\n",
    "averageSalary = round(salaryByTitle['salary'].mean(),2)\n",
    "avgSalary = pd.DataFrame(averageSalary)\n",
    "avgSalary.reset_index(inplace=True)\n",
    "avgSalary.rename(columns = {\"salary\" : \"avg_salary\"}, inplace = \"True\")\n",
    "avgSalary"
   ]
  },
  {
   "cell_type": "code",
   "execution_count": 5,
   "id": "ab04197a",
   "metadata": {},
   "outputs": [
    {
     "data": {
      "text/plain": [
       "([<matplotlib.axis.XTick at 0x1baa87c5128>,\n",
       "  <matplotlib.axis.XTick at 0x1baa87c1cc0>,\n",
       "  <matplotlib.axis.XTick at 0x1baa87c1908>,\n",
       "  <matplotlib.axis.XTick at 0x1baa87fbb38>,\n",
       "  <matplotlib.axis.XTick at 0x1baa8809048>,\n",
       "  <matplotlib.axis.XTick at 0x1baa88094a8>,\n",
       "  <matplotlib.axis.XTick at 0x1baa8809940>],\n",
       " [Text(0, 0, 'Assistant Engineer'),\n",
       "  Text(1, 0, 'Engineer'),\n",
       "  Text(2, 0, 'Manager'),\n",
       "  Text(3, 0, 'Senior Engineer'),\n",
       "  Text(4, 0, 'Senior Staff'),\n",
       "  Text(5, 0, 'Staff'),\n",
       "  Text(6, 0, 'Technique Leader')])"
      ]
     },
     "execution_count": 5,
     "metadata": {},
     "output_type": "execute_result"
    },
    {
     "data": {
      "image/png": "[encoded data removed]",
      "text/plain": [
       "<Figure size 432x288 with 1 Axes>"
      ]
     },
     "metadata": {
      "needs_background": "light"
     },
     "output_type": "display_data"
    }
   ],
   "source": [
    "x_pos = [i for i, _ in enumerate(avgSalary['title'])]\n",
    "plt.bar(x_pos, avgSalary['avg_salary'], color='green')\n",
    "plt.xlabel(\"Title\")\n",
    "plt.ylabel(\"Average Salary\")\n",
    "plt.title(\"Average Salary by Title\")\n",
    "\n",
    "plt.xticks(x_pos, avgSalary['title'], rotation='vertical')"
   ]
  }
 ],
 "metadata": {
  "kernelspec": {
   "display_name": "Python 3",
   "language": "python",
   "name": "python3"
  },
  "language_info": {
   "codemirror_mode": {
    "name": "ipython",
    "version": 3
   },
   "file_extension": ".py",
   "mimetype": "text/x-python",
   "name": "python",
   "nbconvert_exporter": "python",
   "pygments_lexer": "ipython3",
   "version": "3.6.13"
  }
 },
 "nbformat": 4,
 "nbformat_minor": 5
}
